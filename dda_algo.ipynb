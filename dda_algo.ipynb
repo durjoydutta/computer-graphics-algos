{
  "nbformat": 4,
  "nbformat_minor": 0,
  "metadata": {
    "colab": {
      "provenance": [],
      "authorship_tag": "ABX9TyMfNnCrjOfSRLDvY/5DihKc",
      "include_colab_link": true
    },
    "kernelspec": {
      "name": "python3",
      "display_name": "Python 3"
    },
    "language_info": {
      "name": "python"
    }
  },
  "cells": [
    {
      "cell_type": "markdown",
      "metadata": {
        "id": "view-in-github",
        "colab_type": "text"
      },
      "source": [
        "<a href=\"https://colab.research.google.com/github/durjoydutta/computer-graphics-algos/blob/main/dda_algo.ipynb\" target=\"_parent\"><img src=\"https://colab.research.google.com/assets/colab-badge.svg\" alt=\"Open In Colab\"/></a>"
      ]
    },
    {
      "cell_type": "code",
      "execution_count": null,
      "metadata": {
        "id": "RngMXnPVUUjB"
      },
      "outputs": [],
      "source": [
        "import matplotlib.pyplot as plt\n",
        "import numpy as np"
      ]
    },
    {
      "cell_type": "code",
      "source": [
        "p1 = (20, 10) # first point\n",
        "p2 = (30, 18) # second point\n",
        "\n",
        "x1, y1 = p1[0], p1[1]\n",
        "x2, y2 = p2[0], p2[1]"
      ],
      "metadata": {
        "id": "vOjhcr_0XGum"
      },
      "execution_count": null,
      "outputs": []
    },
    {
      "cell_type": "code",
      "source": [
        "dy = y2 - y1\n",
        "dx = x2 - x1\n",
        "\n",
        "def slope(dy, dx):\n",
        "    return dy / dx;\n",
        "\n",
        "slope(dy, dx)"
      ],
      "metadata": {
        "colab": {
          "base_uri": "https://localhost:8080/"
        },
        "id": "W7V2D52SUaZV",
        "outputId": "421982a4-1a2a-49f2-f9da-4913d07d2635"
      },
      "execution_count": null,
      "outputs": [
        {
          "output_type": "execute_result",
          "data": {
            "text/plain": [
              "0.8"
            ]
          },
          "metadata": {},
          "execution_count": 23
        }
      ]
    },
    {
      "cell_type": "code",
      "source": [
        "steps = max(abs(dy), abs(dx))\n",
        "steps"
      ],
      "metadata": {
        "colab": {
          "base_uri": "https://localhost:8080/"
        },
        "id": "4MH2BT1jfi7-",
        "outputId": "a62d370f-bbc3-4938-c055-0b15550590c1"
      },
      "execution_count": null,
      "outputs": [
        {
          "output_type": "execute_result",
          "data": {
            "text/plain": [
              "10"
            ]
          },
          "metadata": {},
          "execution_count": 24
        }
      ]
    },
    {
      "cell_type": "code",
      "source": [
        "x_incr = dx / steps\n",
        "y_incr = dy / steps\n",
        "\n",
        "print(x_incr, y_incr)"
      ],
      "metadata": {
        "colab": {
          "base_uri": "https://localhost:8080/"
        },
        "id": "5g1c1qM6VJ_O",
        "outputId": "d134b652-0020-41a3-d338-ac7743866461"
      },
      "execution_count": null,
      "outputs": [
        {
          "output_type": "stream",
          "name": "stdout",
          "text": [
            "1.0 0.8\n"
          ]
        }
      ]
    },
    {
      "cell_type": "code",
      "source": [
        "# generate pixels along the line\n",
        "xs , ys = [] , []\n",
        "def genPixels(x1, y1, steps):\n",
        "    if steps <= 0:\n",
        "        return\n",
        "    xs.append(round(x1))\n",
        "    ys.append(round(y1))\n",
        "    genPixels(x1 + x_incr, y1 + y_incr, steps - 1)"
      ],
      "metadata": {
        "id": "3rtZQEVlWLwr"
      },
      "execution_count": null,
      "outputs": []
    },
    {
      "cell_type": "code",
      "source": [
        "genPixels(x1, y1, steps)"
      ],
      "metadata": {
        "id": "CGpT8LMtdUPW"
      },
      "execution_count": null,
      "outputs": []
    },
    {
      "cell_type": "code",
      "source": [
        "xs"
      ],
      "metadata": {
        "colab": {
          "base_uri": "https://localhost:8080/"
        },
        "id": "p8ByRbpGds60",
        "outputId": "ded09ae0-ae9e-487d-a7db-7bea36987dae"
      },
      "execution_count": null,
      "outputs": [
        {
          "output_type": "execute_result",
          "data": {
            "text/plain": [
              "[20, 21, 22, 23, 24, 25, 26, 27, 28, 29]"
            ]
          },
          "metadata": {},
          "execution_count": 28
        }
      ]
    },
    {
      "cell_type": "code",
      "source": [
        "ys"
      ],
      "metadata": {
        "colab": {
          "base_uri": "https://localhost:8080/"
        },
        "id": "iXIlDdSQdu_o",
        "outputId": "ea2f8303-47cc-4701-ace5-fe82d8221ab9"
      },
      "execution_count": null,
      "outputs": [
        {
          "output_type": "execute_result",
          "data": {
            "text/plain": [
              "[10, 11, 12, 12, 13, 14, 15, 16, 16, 17]"
            ]
          },
          "metadata": {},
          "execution_count": 29
        }
      ]
    },
    {
      "cell_type": "code",
      "source": [
        "plt.plot(xs, ys)"
      ],
      "metadata": {
        "colab": {
          "base_uri": "https://localhost:8080/",
          "height": 447
        },
        "id": "n_Wcu0MseB6W",
        "outputId": "67495d20-e24f-4805-b4f4-9dcb10487490"
      },
      "execution_count": null,
      "outputs": [
        {
          "output_type": "execute_result",
          "data": {
            "text/plain": [
              "[<matplotlib.lines.Line2D at 0x7da728ed3610>]"
            ]
          },
          "metadata": {},
          "execution_count": 30
        },
        {
          "output_type": "display_data",
          "data": {
            "text/plain": [
              "<Figure size 640x480 with 1 Axes>"
            ],
            "image/png": "[encoded data removed]"
          },
          "metadata": {}
        }
      ]
    }
  ]
}