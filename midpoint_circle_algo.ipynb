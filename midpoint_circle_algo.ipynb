{
  "nbformat": 4,
  "nbformat_minor": 0,
  "metadata": {
    "colab": {
      "provenance": []
    },
    "kernelspec": {
      "name": "python3",
      "display_name": "Python 3"
    },
    "language_info": {
      "name": "python"
    }
  },
  "cells": [
    {
      "cell_type": "code",
      "source": [
        "import matplotlib.pyplot as plt"
      ],
      "metadata": {
        "id": "ystUd_tArwBr"
      },
      "execution_count": 48,
      "outputs": []
    },
    {
      "cell_type": "code",
      "execution_count": 49,
      "metadata": {
        "id": "ez7mqDhOoSBW"
      },
      "outputs": [],
      "source": [
        "#origin\n",
        "x_c = 0\n",
        "y_c = 0\n",
        "r = 10"
      ]
    },
    {
      "cell_type": "code",
      "source": [
        "xs = []\n",
        "ys = []\n",
        "def midPointCircle(x_c, y_c, r):\n",
        "    p = 1 - r #initial paramter\n",
        "    x = 0\n",
        "    y = r\n",
        "\n",
        "    def plot_points(x, y):\n",
        "        #use below for only one octate\n",
        "        xs.append(x_c + x)\n",
        "        ys.append(y_c + y)\n",
        "        #use below for drawing all octates\n",
        "        # xs.extend([x_c + x, x_c - x, x_c + x, x_c - x, x_c + y, x_c - y, x_c + y, x_c - y])\n",
        "        # ys.extend([y_c + y, y_c + y, y_c - y, y_c - y, y_c + x, y_c + x, y_c - x, y_c - x])\n",
        "    plot_points(x, y)\n",
        "\n",
        "    while (x < y):\n",
        "        x += 1\n",
        "        if (p < 0):\n",
        "            p += 2*x + 1\n",
        "        else:\n",
        "            y = y - 1\n",
        "            p += 2*x - 2*y + 1\n",
        "        plot_points(x, y)\n",
        "\n"
      ],
      "metadata": {
        "id": "uQe-zBszos_N"
      },
      "execution_count": 50,
      "outputs": []
    },
    {
      "cell_type": "code",
      "source": [
        "midPointCircle(0, 0, 8);"
      ],
      "metadata": {
        "id": "zVghXJNusHUU"
      },
      "execution_count": 51,
      "outputs": []
    },
    {
      "cell_type": "code",
      "source": [
        "plt.scatter(xs, ys)"
      ],
      "metadata": {
        "colab": {
          "base_uri": "https://localhost:8080/",
          "height": 448
        },
        "id": "S-6fuZxnt80S",
        "outputId": "a54ef0b4-5e7d-4dc4-e893-06d7762442f1"
      },
      "execution_count": 52,
      "outputs": [
        {
          "output_type": "execute_result",
          "data": {
            "text/plain": [
              "<matplotlib.collections.PathCollection at 0x79d82a36ff90>"
            ]
          },
          "metadata": {},
          "execution_count": 52
        },
        {
          "output_type": "display_data",
          "data": {
            "text/plain": [
              "<Figure size 640x480 with 1 Axes>"
            ],
            "image/png": "[encoded data removed]"
          },
          "metadata": {}
        }
      ]
    },
    {
      "cell_type": "code",
      "source": [
        "xs"
      ],
      "metadata": {
        "colab": {
          "base_uri": "https://localhost:8080/"
        },
        "id": "d6NkIgQswlBz",
        "outputId": "0e0af8d6-3ca6-4d76-cf9a-4b272589cd60"
      },
      "execution_count": 53,
      "outputs": [
        {
          "output_type": "execute_result",
          "data": {
            "text/plain": [
              "[0, 1, 2, 3, 4, 5, 6]"
            ]
          },
          "metadata": {},
          "execution_count": 53
        }
      ]
    },
    {
      "cell_type": "code",
      "source": [
        "ys"
      ],
      "metadata": {
        "colab": {
          "base_uri": "https://localhost:8080/"
        },
        "id": "-lSXHLSJw9pg",
        "outputId": "8842d6d8-cfed-4db8-bf61-b43631901c5d"
      },
      "execution_count": 54,
      "outputs": [
        {
          "output_type": "execute_result",
          "data": {
            "text/plain": [
              "[8, 8, 8, 7, 7, 6, 5]"
            ]
          },
          "metadata": {},
          "execution_count": 54
        }
      ]
    },
    {
      "cell_type": "code",
      "source": [
        "xs1 = []\n",
        "ys1 = []\n",
        "def midPointCircleFull(x_c, y_c, r):\n",
        "    p = 1 - r #initial paramter\n",
        "    x = 0\n",
        "    y = r\n",
        "\n",
        "    def plot_points(x, y):\n",
        "        #use below for drawing all octates\n",
        "        xs1.extend([x_c + x, x_c - x, x_c + x, x_c - x, x_c + y, x_c - y, x_c + y, x_c - y])\n",
        "        ys1.extend([y_c + y, y_c + y, y_c - y, y_c - y, y_c + x, y_c + x, y_c - x, y_c - x])\n",
        "    plot_points(x, y)\n",
        "\n",
        "    while (x < y):\n",
        "        x += 1\n",
        "        if (p < 0):\n",
        "            p += 2*x + 1\n",
        "        else:\n",
        "            y = y - 1\n",
        "            p += 2*x - 2*y + 1\n",
        "        plot_points(x, y)\n",
        "\n"
      ],
      "metadata": {
        "id": "H2RIpRlBwzpo"
      },
      "execution_count": 55,
      "outputs": []
    },
    {
      "cell_type": "code",
      "source": [
        "midPointCircleFull(0, 0, 8);"
      ],
      "metadata": {
        "id": "L_S-0fAQw7ul"
      },
      "execution_count": 56,
      "outputs": []
    },
    {
      "cell_type": "code",
      "source": [
        "plt.scatter(xs1, ys1)"
      ],
      "metadata": {
        "colab": {
          "base_uri": "https://localhost:8080/",
          "height": 448
        },
        "id": "pwY5VA24w8ph",
        "outputId": "e61b6984-193b-4bae-8573-473e921ae19c"
      },
      "execution_count": 57,
      "outputs": [
        {
          "output_type": "execute_result",
          "data": {
            "text/plain": [
              "<matplotlib.collections.PathCollection at 0x79d82a2a6f90>"
            ]
          },
          "metadata": {},
          "execution_count": 57
        },
        {
          "output_type": "display_data",
          "data": {
            "text/plain": [
              "<Figure size 640x480 with 1 Axes>"
            ],
            "image/png": "[encoded data removed]"
          },
          "metadata": {}
        }
      ]
    },
    {
      "cell_type": "code",
      "source": [
        "xs1"
      ],
      "metadata": {
        "colab": {
          "base_uri": "https://localhost:8080/"
        },
        "collapsed": true,
        "id": "nfCrf2xZxkfI",
        "outputId": "e856ab8c-f18a-4af9-ebe5-b980ca7066fe"
      },
      "execution_count": 58,
      "outputs": [
        {
          "output_type": "execute_result",
          "data": {
            "text/plain": [
              "[0,\n",
              " 0,\n",
              " 0,\n",
              " 0,\n",
              " 8,\n",
              " -8,\n",
              " 8,\n",
              " -8,\n",
              " 1,\n",
              " -1,\n",
              " 1,\n",
              " -1,\n",
              " 8,\n",
              " -8,\n",
              " 8,\n",
              " -8,\n",
              " 2,\n",
              " -2,\n",
              " 2,\n",
              " -2,\n",
              " 8,\n",
              " -8,\n",
              " 8,\n",
              " -8,\n",
              " 3,\n",
              " -3,\n",
              " 3,\n",
              " -3,\n",
              " 7,\n",
              " -7,\n",
              " 7,\n",
              " -7,\n",
              " 4,\n",
              " -4,\n",
              " 4,\n",
              " -4,\n",
              " 7,\n",
              " -7,\n",
              " 7,\n",
              " -7,\n",
              " 5,\n",
              " -5,\n",
              " 5,\n",
              " -5,\n",
              " 6,\n",
              " -6,\n",
              " 6,\n",
              " -6,\n",
              " 6,\n",
              " -6,\n",
              " 6,\n",
              " -6,\n",
              " 5,\n",
              " -5,\n",
              " 5,\n",
              " -5]"
            ]
          },
          "metadata": {},
          "execution_count": 58
        }
      ]
    },
    {
      "cell_type": "code",
      "source": [
        "ys1"
      ],
      "metadata": {
        "colab": {
          "base_uri": "https://localhost:8080/"
        },
        "collapsed": true,
        "id": "iFvWTal7xmNb",
        "outputId": "eddf305d-52f5-458a-ae12-2c9b3f646dfc"
      },
      "execution_count": 59,
      "outputs": [
        {
          "output_type": "execute_result",
          "data": {
            "text/plain": [
              "[8,\n",
              " 8,\n",
              " -8,\n",
              " -8,\n",
              " 0,\n",
              " 0,\n",
              " 0,\n",
              " 0,\n",
              " 8,\n",
              " 8,\n",
              " -8,\n",
              " -8,\n",
              " 1,\n",
              " 1,\n",
              " -1,\n",
              " -1,\n",
              " 8,\n",
              " 8,\n",
              " -8,\n",
              " -8,\n",
              " 2,\n",
              " 2,\n",
              " -2,\n",
              " -2,\n",
              " 7,\n",
              " 7,\n",
              " -7,\n",
              " -7,\n",
              " 3,\n",
              " 3,\n",
              " -3,\n",
              " -3,\n",
              " 7,\n",
              " 7,\n",
              " -7,\n",
              " -7,\n",
              " 4,\n",
              " 4,\n",
              " -4,\n",
              " -4,\n",
              " 6,\n",
              " 6,\n",
              " -6,\n",
              " -6,\n",
              " 5,\n",
              " 5,\n",
              " -5,\n",
              " -5,\n",
              " 5,\n",
              " 5,\n",
              " -5,\n",
              " -5,\n",
              " 6,\n",
              " 6,\n",
              " -6,\n",
              " -6]"
            ]
          },
          "metadata": {},
          "execution_count": 59
        }
      ]
    }
  ]
}