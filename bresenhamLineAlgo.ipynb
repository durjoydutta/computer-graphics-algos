{
  "nbformat": 4,
  "nbformat_minor": 0,
  "metadata": {
    "colab": {
      "provenance": []
    },
    "kernelspec": {
      "name": "python3",
      "display_name": "Python 3"
    },
    "language_info": {
      "name": "python"
    }
  },
  "cells": [
    {
      "cell_type": "code",
      "source": [
        "import matplotlib.pyplot as plt"
      ],
      "metadata": {
        "id": "VG5Aho17fHtt"
      },
      "execution_count": null,
      "outputs": []
    },
    {
      "cell_type": "code",
      "execution_count": null,
      "metadata": {
        "id": "wtVcLrfHelz-"
      },
      "outputs": [],
      "source": [
        "def bresenhamAlgo(x1, y1, x2, y2):\n",
        "    xs = []\n",
        "    ys = []\n",
        "\n",
        "    dx = abs(x2 - x1)\n",
        "    dy = abs(y2 - y1)\n",
        "\n",
        "    #to adjust for both pos and neg slope\n",
        "    sx = 1 if x2 > x1 else -1\n",
        "    sy = 1 if y2 > y1 else -1\n",
        "\n",
        "    x = x1\n",
        "    y = y1\n",
        "    xs.append(x)\n",
        "    ys.append(y)\n",
        "\n",
        "    swapped = False  # if 0 < |slope| < 1\n",
        "    if dy > dx:\n",
        "        swapped = True  # if slope > 1\n",
        "        dx, dy = dy, dx  # Swap dx and dy\n",
        "\n",
        "    p = 2*dy - dx\n",
        "\n",
        "    for i in range(dx):  # We iterate exactly dx times\n",
        "        # Update the driving coordinate\n",
        "        if swapped:\n",
        "            y += sy\n",
        "        else:\n",
        "            x += sx\n",
        "\n",
        "        # This part is common for both cases\n",
        "        if p < 0:\n",
        "            p += 2*dy\n",
        "        else:\n",
        "            # Update the non-driving coordinate\n",
        "            if swapped:\n",
        "                x += sx\n",
        "            else:\n",
        "                y += sy\n",
        "            p += 2*dy - 2*dx\n",
        "\n",
        "        xs.append(x)\n",
        "        ys.append(y)"
      ]
    },
    {
      "cell_type": "code",
      "source": [
        "bresenhamAlgo(20, 10, 30, -18)\n",
        "# bresenhamAlgo(30, 18, 20, 10)"
      ],
      "metadata": {
        "id": "ZZzS0fwTfgHT"
      },
      "execution_count": null,
      "outputs": []
    },
    {
      "cell_type": "code",
      "source": [
        "plt.scatter(xs, ys)"
      ],
      "metadata": {
        "colab": {
          "base_uri": "https://localhost:8080/",
          "height": 448
        },
        "id": "0ICGkirrgSLG",
        "outputId": "2be7917d-6796-4b9c-c9a7-5e63911909be"
      },
      "execution_count": null,
      "outputs": [
        {
          "output_type": "execute_result",
          "data": {
            "text/plain": [
              "<matplotlib.collections.PathCollection at 0x7cd589bd4710>"
            ]
          },
          "metadata": {},
          "execution_count": 182
        },
        {
          "output_type": "display_data",
          "data": {
            "text/plain": [
              "<Figure size 640x480 with 1 Axes>"
            ],
            "image/png": "[encoded data removed]"
          },
          "metadata": {}
        }
      ]
    },
    {
      "cell_type": "code",
      "source": [
        "xs"
      ],
      "metadata": {
        "colab": {
          "base_uri": "https://localhost:8080/"
        },
        "id": "ZksGRRLNgpEp",
        "outputId": "20d064eb-c1f3-4db6-a3e4-6997b86bd86c"
      },
      "execution_count": null,
      "outputs": [
        {
          "output_type": "execute_result",
          "data": {
            "text/plain": [
              "[20,\n",
              " 21,\n",
              " 22,\n",
              " 22,\n",
              " 22,\n",
              " 23,\n",
              " 23,\n",
              " 23,\n",
              " 24,\n",
              " 24,\n",
              " 25,\n",
              " 25,\n",
              " 25,\n",
              " 26,\n",
              " 26,\n",
              " 26,\n",
              " 27,\n",
              " 27,\n",
              " 27,\n",
              " 28,\n",
              " 28,\n",
              " 28,\n",
              " 29,\n",
              " 29,\n",
              " 30,\n",
              " 30,\n",
              " 30,\n",
              " 31,\n",
              " 31]"
            ]
          },
          "metadata": {},
          "execution_count": 183
        }
      ]
    },
    {
      "cell_type": "code",
      "source": [
        "ys"
      ],
      "metadata": {
        "colab": {
          "base_uri": "https://localhost:8080/"
        },
        "id": "bfZgRFf2ghW6",
        "outputId": "096e65fd-f571-4742-d02f-c47280daaa76"
      },
      "execution_count": null,
      "outputs": [
        {
          "output_type": "execute_result",
          "data": {
            "text/plain": [
              "[10,\n",
              " 9,\n",
              " 8,\n",
              " 7,\n",
              " 6,\n",
              " 5,\n",
              " 4,\n",
              " 3,\n",
              " 2,\n",
              " 1,\n",
              " 0,\n",
              " -1,\n",
              " -2,\n",
              " -3,\n",
              " -4,\n",
              " -5,\n",
              " -6,\n",
              " -7,\n",
              " -8,\n",
              " -9,\n",
              " -10,\n",
              " -11,\n",
              " -12,\n",
              " -13,\n",
              " -14,\n",
              " -15,\n",
              " -16,\n",
              " -17,\n",
              " -18]"
            ]
          },
          "metadata": {},
          "execution_count": 184
        }
      ]
    }
  ]
}